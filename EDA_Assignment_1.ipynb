{
 "cells": [
  {
   "cell_type": "markdown",
   "id": "1363a6ad-71e2-4f14-b826-589895572dba",
   "metadata": {},
   "source": [
    "# EDA ASSIGNMENT QUESTIONS"
   ]
  },
  {
   "cell_type": "code",
   "execution_count": 34,
   "id": "8c657fe3-5ea3-494c-973f-11658e914e96",
   "metadata": {},
   "outputs": [],
   "source": [
    "import numpy as np\n",
    "import pandas as pd\n",
    "import matplotlib.pyplot as plt\n",
    "import seaborn as sns"
   ]
  },
  {
   "cell_type": "code",
   "execution_count": 256,
   "id": "3667409b-3b0b-4e1a-97b1-c509cc135675",
   "metadata": {},
   "outputs": [
    {
     "data": {
      "text/html": [
       "<div>\n",
       "<style scoped>\n",
       "    .dataframe tbody tr th:only-of-type {\n",
       "        vertical-align: middle;\n",
       "    }\n",
       "\n",
       "    .dataframe tbody tr th {\n",
       "        vertical-align: top;\n",
       "    }\n",
       "\n",
       "    .dataframe thead th {\n",
       "        text-align: right;\n",
       "    }\n",
       "</style>\n",
       "<table border=\"1\" class=\"dataframe\">\n",
       "  <thead>\n",
       "    <tr style=\"text-align: right;\">\n",
       "      <th></th>\n",
       "      <th>Car_Name</th>\n",
       "      <th>Year</th>\n",
       "      <th>Selling_Price</th>\n",
       "      <th>Present_Price</th>\n",
       "      <th>Kms_Driven</th>\n",
       "      <th>Fuel_Type</th>\n",
       "      <th>Seller_Type</th>\n",
       "      <th>Transmission</th>\n",
       "      <th>Owner</th>\n",
       "    </tr>\n",
       "  </thead>\n",
       "  <tbody>\n",
       "    <tr>\n",
       "      <th>0</th>\n",
       "      <td>ritz</td>\n",
       "      <td>2014</td>\n",
       "      <td>3.35</td>\n",
       "      <td>5.59</td>\n",
       "      <td>27000</td>\n",
       "      <td>Petrol</td>\n",
       "      <td>Dealer</td>\n",
       "      <td>Manual</td>\n",
       "      <td>0</td>\n",
       "    </tr>\n",
       "    <tr>\n",
       "      <th>1</th>\n",
       "      <td>sx4</td>\n",
       "      <td>2013</td>\n",
       "      <td>4.75</td>\n",
       "      <td>9.54</td>\n",
       "      <td>43000</td>\n",
       "      <td>Diesel</td>\n",
       "      <td>Dealer</td>\n",
       "      <td>Manual</td>\n",
       "      <td>0</td>\n",
       "    </tr>\n",
       "    <tr>\n",
       "      <th>2</th>\n",
       "      <td>ciaz</td>\n",
       "      <td>2017</td>\n",
       "      <td>7.25</td>\n",
       "      <td>9.85</td>\n",
       "      <td>6900</td>\n",
       "      <td>Petrol</td>\n",
       "      <td>Dealer</td>\n",
       "      <td>Manual</td>\n",
       "      <td>0</td>\n",
       "    </tr>\n",
       "    <tr>\n",
       "      <th>3</th>\n",
       "      <td>wagon r</td>\n",
       "      <td>2011</td>\n",
       "      <td>2.85</td>\n",
       "      <td>4.15</td>\n",
       "      <td>5200</td>\n",
       "      <td>Petrol</td>\n",
       "      <td>Dealer</td>\n",
       "      <td>Manual</td>\n",
       "      <td>0</td>\n",
       "    </tr>\n",
       "    <tr>\n",
       "      <th>4</th>\n",
       "      <td>swift</td>\n",
       "      <td>2014</td>\n",
       "      <td>4.60</td>\n",
       "      <td>6.87</td>\n",
       "      <td>42450</td>\n",
       "      <td>Diesel</td>\n",
       "      <td>Dealer</td>\n",
       "      <td>Manual</td>\n",
       "      <td>0</td>\n",
       "    </tr>\n",
       "    <tr>\n",
       "      <th>...</th>\n",
       "      <td>...</td>\n",
       "      <td>...</td>\n",
       "      <td>...</td>\n",
       "      <td>...</td>\n",
       "      <td>...</td>\n",
       "      <td>...</td>\n",
       "      <td>...</td>\n",
       "      <td>...</td>\n",
       "      <td>...</td>\n",
       "    </tr>\n",
       "    <tr>\n",
       "      <th>296</th>\n",
       "      <td>city</td>\n",
       "      <td>2016</td>\n",
       "      <td>9.50</td>\n",
       "      <td>11.60</td>\n",
       "      <td>33988</td>\n",
       "      <td>Diesel</td>\n",
       "      <td>Dealer</td>\n",
       "      <td>Manual</td>\n",
       "      <td>0</td>\n",
       "    </tr>\n",
       "    <tr>\n",
       "      <th>297</th>\n",
       "      <td>brio</td>\n",
       "      <td>2015</td>\n",
       "      <td>4.00</td>\n",
       "      <td>5.90</td>\n",
       "      <td>60000</td>\n",
       "      <td>Petrol</td>\n",
       "      <td>Dealer</td>\n",
       "      <td>Manual</td>\n",
       "      <td>0</td>\n",
       "    </tr>\n",
       "    <tr>\n",
       "      <th>298</th>\n",
       "      <td>city</td>\n",
       "      <td>2009</td>\n",
       "      <td>3.35</td>\n",
       "      <td>11.00</td>\n",
       "      <td>87934</td>\n",
       "      <td>Petrol</td>\n",
       "      <td>Dealer</td>\n",
       "      <td>Manual</td>\n",
       "      <td>0</td>\n",
       "    </tr>\n",
       "    <tr>\n",
       "      <th>299</th>\n",
       "      <td>city</td>\n",
       "      <td>2017</td>\n",
       "      <td>11.50</td>\n",
       "      <td>12.50</td>\n",
       "      <td>9000</td>\n",
       "      <td>Diesel</td>\n",
       "      <td>Dealer</td>\n",
       "      <td>Manual</td>\n",
       "      <td>0</td>\n",
       "    </tr>\n",
       "    <tr>\n",
       "      <th>300</th>\n",
       "      <td>brio</td>\n",
       "      <td>2016</td>\n",
       "      <td>5.30</td>\n",
       "      <td>5.90</td>\n",
       "      <td>5464</td>\n",
       "      <td>Petrol</td>\n",
       "      <td>Dealer</td>\n",
       "      <td>Manual</td>\n",
       "      <td>0</td>\n",
       "    </tr>\n",
       "  </tbody>\n",
       "</table>\n",
       "<p>301 rows × 9 columns</p>\n",
       "</div>"
      ],
      "text/plain": [
       "    Car_Name  Year  Selling_Price  Present_Price  Kms_Driven Fuel_Type  \\\n",
       "0       ritz  2014           3.35           5.59       27000    Petrol   \n",
       "1        sx4  2013           4.75           9.54       43000    Diesel   \n",
       "2       ciaz  2017           7.25           9.85        6900    Petrol   \n",
       "3    wagon r  2011           2.85           4.15        5200    Petrol   \n",
       "4      swift  2014           4.60           6.87       42450    Diesel   \n",
       "..       ...   ...            ...            ...         ...       ...   \n",
       "296     city  2016           9.50          11.60       33988    Diesel   \n",
       "297     brio  2015           4.00           5.90       60000    Petrol   \n",
       "298     city  2009           3.35          11.00       87934    Petrol   \n",
       "299     city  2017          11.50          12.50        9000    Diesel   \n",
       "300     brio  2016           5.30           5.90        5464    Petrol   \n",
       "\n",
       "    Seller_Type Transmission  Owner  \n",
       "0        Dealer       Manual      0  \n",
       "1        Dealer       Manual      0  \n",
       "2        Dealer       Manual      0  \n",
       "3        Dealer       Manual      0  \n",
       "4        Dealer       Manual      0  \n",
       "..          ...          ...    ...  \n",
       "296      Dealer       Manual      0  \n",
       "297      Dealer       Manual      0  \n",
       "298      Dealer       Manual      0  \n",
       "299      Dealer       Manual      0  \n",
       "300      Dealer       Manual      0  \n",
       "\n",
       "[301 rows x 9 columns]"
      ]
     },
     "execution_count": 256,
     "metadata": {},
     "output_type": "execute_result"
    }
   ],
   "source": [
    "df = pd.read_csv(\"car_data.csv\")\n",
    "df"
   ]
  },
  {
   "cell_type": "code",
   "execution_count": 258,
   "id": "41f91c1e-1104-45a8-a8b5-d0959ef3fddf",
   "metadata": {},
   "outputs": [
    {
     "data": {
      "text/html": [
       "<div>\n",
       "<style scoped>\n",
       "    .dataframe tbody tr th:only-of-type {\n",
       "        vertical-align: middle;\n",
       "    }\n",
       "\n",
       "    .dataframe tbody tr th {\n",
       "        vertical-align: top;\n",
       "    }\n",
       "\n",
       "    .dataframe thead th {\n",
       "        text-align: right;\n",
       "    }\n",
       "</style>\n",
       "<table border=\"1\" class=\"dataframe\">\n",
       "  <thead>\n",
       "    <tr style=\"text-align: right;\">\n",
       "      <th></th>\n",
       "      <th>Car_Name</th>\n",
       "      <th>Year</th>\n",
       "      <th>Selling_Price</th>\n",
       "      <th>Present_Price</th>\n",
       "      <th>Kms_Driven</th>\n",
       "      <th>Fuel_Type</th>\n",
       "      <th>Seller_Type</th>\n",
       "      <th>Transmission</th>\n",
       "      <th>Owner</th>\n",
       "    </tr>\n",
       "  </thead>\n",
       "  <tbody>\n",
       "    <tr>\n",
       "      <th>0</th>\n",
       "      <td>ritz</td>\n",
       "      <td>2014</td>\n",
       "      <td>3.35</td>\n",
       "      <td>5.59</td>\n",
       "      <td>27000</td>\n",
       "      <td>Petrol</td>\n",
       "      <td>Dealer</td>\n",
       "      <td>Manual</td>\n",
       "      <td>0</td>\n",
       "    </tr>\n",
       "    <tr>\n",
       "      <th>1</th>\n",
       "      <td>sx4</td>\n",
       "      <td>2013</td>\n",
       "      <td>4.75</td>\n",
       "      <td>9.54</td>\n",
       "      <td>43000</td>\n",
       "      <td>Diesel</td>\n",
       "      <td>Dealer</td>\n",
       "      <td>Manual</td>\n",
       "      <td>0</td>\n",
       "    </tr>\n",
       "    <tr>\n",
       "      <th>2</th>\n",
       "      <td>ciaz</td>\n",
       "      <td>2017</td>\n",
       "      <td>7.25</td>\n",
       "      <td>9.85</td>\n",
       "      <td>6900</td>\n",
       "      <td>Petrol</td>\n",
       "      <td>Dealer</td>\n",
       "      <td>Manual</td>\n",
       "      <td>0</td>\n",
       "    </tr>\n",
       "    <tr>\n",
       "      <th>3</th>\n",
       "      <td>wagon r</td>\n",
       "      <td>2011</td>\n",
       "      <td>2.85</td>\n",
       "      <td>4.15</td>\n",
       "      <td>5200</td>\n",
       "      <td>Petrol</td>\n",
       "      <td>Dealer</td>\n",
       "      <td>Manual</td>\n",
       "      <td>0</td>\n",
       "    </tr>\n",
       "    <tr>\n",
       "      <th>4</th>\n",
       "      <td>swift</td>\n",
       "      <td>2014</td>\n",
       "      <td>4.60</td>\n",
       "      <td>6.87</td>\n",
       "      <td>42450</td>\n",
       "      <td>Diesel</td>\n",
       "      <td>Dealer</td>\n",
       "      <td>Manual</td>\n",
       "      <td>0</td>\n",
       "    </tr>\n",
       "    <tr>\n",
       "      <th>...</th>\n",
       "      <td>...</td>\n",
       "      <td>...</td>\n",
       "      <td>...</td>\n",
       "      <td>...</td>\n",
       "      <td>...</td>\n",
       "      <td>...</td>\n",
       "      <td>...</td>\n",
       "      <td>...</td>\n",
       "      <td>...</td>\n",
       "    </tr>\n",
       "    <tr>\n",
       "      <th>296</th>\n",
       "      <td>city</td>\n",
       "      <td>2016</td>\n",
       "      <td>9.50</td>\n",
       "      <td>11.60</td>\n",
       "      <td>33988</td>\n",
       "      <td>Diesel</td>\n",
       "      <td>Dealer</td>\n",
       "      <td>Manual</td>\n",
       "      <td>0</td>\n",
       "    </tr>\n",
       "    <tr>\n",
       "      <th>297</th>\n",
       "      <td>brio</td>\n",
       "      <td>2015</td>\n",
       "      <td>4.00</td>\n",
       "      <td>5.90</td>\n",
       "      <td>60000</td>\n",
       "      <td>Petrol</td>\n",
       "      <td>Dealer</td>\n",
       "      <td>Manual</td>\n",
       "      <td>0</td>\n",
       "    </tr>\n",
       "    <tr>\n",
       "      <th>298</th>\n",
       "      <td>city</td>\n",
       "      <td>2009</td>\n",
       "      <td>3.35</td>\n",
       "      <td>11.00</td>\n",
       "      <td>87934</td>\n",
       "      <td>Petrol</td>\n",
       "      <td>Dealer</td>\n",
       "      <td>Manual</td>\n",
       "      <td>0</td>\n",
       "    </tr>\n",
       "    <tr>\n",
       "      <th>299</th>\n",
       "      <td>city</td>\n",
       "      <td>2017</td>\n",
       "      <td>11.50</td>\n",
       "      <td>12.50</td>\n",
       "      <td>9000</td>\n",
       "      <td>Diesel</td>\n",
       "      <td>Dealer</td>\n",
       "      <td>Manual</td>\n",
       "      <td>0</td>\n",
       "    </tr>\n",
       "    <tr>\n",
       "      <th>300</th>\n",
       "      <td>brio</td>\n",
       "      <td>2016</td>\n",
       "      <td>5.30</td>\n",
       "      <td>5.90</td>\n",
       "      <td>5464</td>\n",
       "      <td>Petrol</td>\n",
       "      <td>Dealer</td>\n",
       "      <td>Manual</td>\n",
       "      <td>0</td>\n",
       "    </tr>\n",
       "  </tbody>\n",
       "</table>\n",
       "<p>301 rows × 9 columns</p>\n",
       "</div>"
      ],
      "text/plain": [
       "    Car_Name  Year  Selling_Price  Present_Price  Kms_Driven Fuel_Type  \\\n",
       "0       ritz  2014           3.35           5.59       27000    Petrol   \n",
       "1        sx4  2013           4.75           9.54       43000    Diesel   \n",
       "2       ciaz  2017           7.25           9.85        6900    Petrol   \n",
       "3    wagon r  2011           2.85           4.15        5200    Petrol   \n",
       "4      swift  2014           4.60           6.87       42450    Diesel   \n",
       "..       ...   ...            ...            ...         ...       ...   \n",
       "296     city  2016           9.50          11.60       33988    Diesel   \n",
       "297     brio  2015           4.00           5.90       60000    Petrol   \n",
       "298     city  2009           3.35          11.00       87934    Petrol   \n",
       "299     city  2017          11.50          12.50        9000    Diesel   \n",
       "300     brio  2016           5.30           5.90        5464    Petrol   \n",
       "\n",
       "    Seller_Type Transmission  Owner  \n",
       "0        Dealer       Manual      0  \n",
       "1        Dealer       Manual      0  \n",
       "2        Dealer       Manual      0  \n",
       "3        Dealer       Manual      0  \n",
       "4        Dealer       Manual      0  \n",
       "..          ...          ...    ...  \n",
       "296      Dealer       Manual      0  \n",
       "297      Dealer       Manual      0  \n",
       "298      Dealer       Manual      0  \n",
       "299      Dealer       Manual      0  \n",
       "300      Dealer       Manual      0  \n",
       "\n",
       "[301 rows x 9 columns]"
      ]
     },
     "execution_count": 258,
     "metadata": {},
     "output_type": "execute_result"
    }
   ],
   "source": [
    "df"
   ]
  },
  {
   "cell_type": "code",
   "execution_count": 260,
   "id": "60d80b58-dd1c-407a-b5fd-26a0f30255ac",
   "metadata": {},
   "outputs": [
    {
     "data": {
      "text/plain": [
       "Index(['Car_Name', 'Year', 'Selling_Price', 'Present_Price', 'Kms_Driven',\n",
       "       'Fuel_Type', 'Seller_Type', 'Transmission', 'Owner'],\n",
       "      dtype='object')"
      ]
     },
     "execution_count": 260,
     "metadata": {},
     "output_type": "execute_result"
    }
   ],
   "source": [
    "df.columns"
   ]
  },
  {
   "cell_type": "markdown",
   "id": "8010ac5c-53d4-41f1-9c8b-35a20586fc8e",
   "metadata": {},
   "source": []
  },
  {
   "cell_type": "markdown",
   "id": "a0182553-2e8e-4376-a22b-2ac6eac69f02",
   "metadata": {},
   "source": [
    "# 1. How many rows and columns are in the dataset?\n",
    " "
   ]
  },
  {
   "cell_type": "code",
   "execution_count": 264,
   "id": "4acfde27-b7a9-4f16-86b7-0718420b0ad4",
   "metadata": {},
   "outputs": [
    {
     "name": "stdout",
     "output_type": "stream",
     "text": [
      "1. Dataset contains 301 rows and 9 columns\n"
     ]
    }
   ],
   "source": [
    "# Rows and columns\n",
    "rows, cols = df.shape\n",
    "print(f\"1. Dataset contains {rows} rows and {cols} columns\")\n",
    "\n",
    "# .shape returns a tuple (rows, columns).\n",
    "# df.shape\n"
   ]
  },
  {
   "cell_type": "markdown",
   "id": "26dab833-2447-4f0a-8d77-85c883c04942",
   "metadata": {},
   "source": [
    "# 2. What are the data types of each column?"
   ]
  },
  {
   "cell_type": "code",
   "execution_count": 267,
   "id": "be01fb39-72cc-42cb-bf56-7b526f7eb983",
   "metadata": {},
   "outputs": [
    {
     "name": "stdout",
     "output_type": "stream",
     "text": [
      "\n",
      "2. Data types of each column:\n",
      "Car_Name          object\n",
      "Year               int64\n",
      "Selling_Price    float64\n",
      "Present_Price    float64\n",
      "Kms_Driven         int64\n",
      "Fuel_Type         object\n",
      "Seller_Type       object\n",
      "Transmission      object\n",
      "Owner              int64\n",
      "dtype: object\n"
     ]
    }
   ],
   "source": [
    "# Data types\n",
    "print(\"\\n2. Data types of each column:\")\n",
    "print(df.dtypes)\n",
    "\n",
    "# .dtypes returns the data type of each column (int, float, object, etc.).\n",
    "# df.dtypes\n"
   ]
  },
  {
   "cell_type": "markdown",
   "id": "6847ecc4-690e-43c0-ab9c-b30e0ea6106b",
   "metadata": {},
   "source": [
    "# 3. Are there any missing values in the dataset?"
   ]
  },
  {
   "cell_type": "code",
   "execution_count": 270,
   "id": "7ce8784a-896b-46c7-9931-6874c95cb3dd",
   "metadata": {},
   "outputs": [
    {
     "name": "stdout",
     "output_type": "stream",
     "text": [
      "\n",
      "3. Missing values in each column:\n",
      "Car_Name         0\n",
      "Year             0\n",
      "Selling_Price    0\n",
      "Present_Price    0\n",
      "Kms_Driven       0\n",
      "Fuel_Type        0\n",
      "Seller_Type      0\n",
      "Transmission     0\n",
      "Owner            0\n",
      "dtype: int64\n"
     ]
    }
   ],
   "source": [
    "# Missing values\n",
    "print(\"\\n3. Missing values in each column:\")\n",
    "print(df.isnull().sum())\n",
    "\n",
    "# .isnull() checks for nulls; .sum() counts them column-wise.\n",
    "# df.isnull().sum()\n"
   ]
  },
  {
   "cell_type": "markdown",
   "id": "52878fa2-34db-4c05-a042-970dca02d635",
   "metadata": {},
   "source": [
    "# 4. Are there any duplicate records?"
   ]
  },
  {
   "cell_type": "code",
   "execution_count": 273,
   "id": "ece2cc0d-b47a-4450-9260-5a29be5a24a4",
   "metadata": {},
   "outputs": [
    {
     "name": "stdout",
     "output_type": "stream",
     "text": [
      "\n",
      "4. Number of duplicate records: 2\n"
     ]
    }
   ],
   "source": [
    "# Duplicate records\n",
    "print(f\"\\n4. Number of duplicate records: {df.duplicated().sum()}\")\n",
    "\n",
    "# .duplicated() returns True for duplicates; .sum() gives the total.\n",
    "# df.duplicated().sum()\n"
   ]
  },
  {
   "cell_type": "markdown",
   "id": "0f1d81d7-c503-4e99-a0b8-d19e04ad38b7",
   "metadata": {},
   "source": [
    "# 5. What are the unique values in the Fuel_Type, Seller_Type, and Transmission columns?"
   ]
  },
  {
   "cell_type": "code",
   "execution_count": 276,
   "id": "a834bd5e-116a-48e6-ad1b-f941222b89fd",
   "metadata": {},
   "outputs": [
    {
     "name": "stdout",
     "output_type": "stream",
     "text": [
      "\n",
      "5. Unique values:\n",
      "   Fuel_Type: ['Petrol' 'Diesel' 'CNG']\n",
      "   Seller_Type: ['Dealer' 'Individual']\n",
      "   Transmission: ['Manual' 'Automatic']\n"
     ]
    }
   ],
   "source": [
    "# Unique values in Fuel_Type, Seller_Type, Transmission\n",
    "print(\"\\n5. Unique values:\")\n",
    "print(\"   Fuel_Type:\", df['Fuel_Type'].unique())\n",
    "print(\"   Seller_Type:\", df['Seller_Type'].unique())\n",
    "print(\"   Transmission:\", df['Transmission'].unique())\n",
    "\n",
    "# .unique() lists all unique values in the column.\n",
    "# df['Fuel_Type'].unique()\n"
   ]
  },
  {
   "cell_type": "markdown",
   "id": "7f6102e7-8a84-449a-943a-b863e0c94ae3",
   "metadata": {},
   "source": [
    "# 6. What is the average, maximum, and minimum Selling_Price?"
   ]
  },
  {
   "cell_type": "code",
   "execution_count": 279,
   "id": "195a47cd-7acd-48e3-b890-c1b942cda0be",
   "metadata": {},
   "outputs": [
    {
     "name": "stdout",
     "output_type": "stream",
     "text": [
      "Average Selling_Price: ₹4.66 lakh\n",
      "Maximum Selling_Price: ₹35.00 lakh\n",
      "Minimum Selling_Price: ₹0.10 lakh\n"
     ]
    }
   ],
   "source": [
    "# average, maximum, and minimum Selling_Price\n",
    "avg_price = df['Selling_Price'].mean()\n",
    "max_price = df['Selling_Price'].max()\n",
    "min_price = df['Selling_Price'].min()\n",
    "\n",
    "print(f\"Average Selling_Price: ₹{avg_price:.2f} lakh\")\n",
    "print(f\"Maximum Selling_Price: ₹{max_price:.2f} lakh\")\n",
    "print(f\"Minimum Selling_Price: ₹{min_price:.2f} lakh\")\n",
    "\n",
    "# These methods calculate the mean, max, and min respectively.\n",
    "# df['Selling_Price'].mean(), .max(), .min()\n"
   ]
  },
  {
   "cell_type": "markdown",
   "id": "d3d5e550-d4c9-4a52-afe0-77e2463d1de3",
   "metadata": {},
   "source": [
    "# 7. What is the average Selling_Price by Fuel_Type?"
   ]
  },
  {
   "cell_type": "code",
   "execution_count": 282,
   "id": "b74543bb-d76b-49a9-9c31-8d77099bb153",
   "metadata": {},
   "outputs": [
    {
     "name": "stdout",
     "output_type": "stream",
     "text": [
      "\n",
      "7. Avg Selling_Price by Fuel_Type:\n",
      "Fuel_Type\n",
      "CNG        3.100000\n",
      "Diesel    10.278500\n",
      "Petrol     3.264184\n",
      "Name: Selling_Price, dtype: float64\n"
     ]
    }
   ],
   "source": [
    "# Average Selling_Price by Fuel_Type\n",
    "print(\"\\n7. Avg Selling_Price by Fuel_Type:\")\n",
    "print(df.groupby('Fuel_Type')['Selling_Price'].mean())\n",
    "\n",
    "# Groups data by fuel type and calculates the mean selling price.\n",
    "# df.groupby('Fuel_Type')['Selling_Price'].mean()\n"
   ]
  },
  {
   "cell_type": "markdown",
   "id": "489d43f7-1fe5-4001-a6a1-39be8ede2c8c",
   "metadata": {},
   "source": [
    "# 8. What is the average Selling_Price by Transmission type?"
   ]
  },
  {
   "cell_type": "code",
   "execution_count": 285,
   "id": "8eddd4a2-c310-48ec-b270-fc6e8515265d",
   "metadata": {},
   "outputs": [
    {
     "name": "stdout",
     "output_type": "stream",
     "text": [
      "\n",
      "8. Avg Selling_Price by Transmission:\n",
      "Transmission\n",
      "Automatic    9.420000\n",
      "Manual       3.931992\n",
      "Name: Selling_Price, dtype: float64\n"
     ]
    }
   ],
   "source": [
    "# Average Selling_Price by Transmission\n",
    "print(\"\\n8. Avg Selling_Price by Transmission:\")\n",
    "print(df.groupby('Transmission')['Selling_Price'].mean())\n",
    "\n",
    "# Groups data by Transmission and calculates the mean selling price.\n",
    "# df.groupby('Transmission')['Selling_Price'].mean()\n"
   ]
  },
  {
   "cell_type": "markdown",
   "id": "d4db2df9-227d-43a4-9ddf-1386c438df3a",
   "metadata": {},
   "source": [
    "# 9. Which car model appears most frequently?"
   ]
  },
  {
   "cell_type": "code",
   "execution_count": 288,
   "id": "27dae077-ae5f-4f1c-b39c-16f80608311d",
   "metadata": {},
   "outputs": [
    {
     "name": "stdout",
     "output_type": "stream",
     "text": [
      "\n",
      "9. Most frequent car model: city\n"
     ]
    }
   ],
   "source": [
    "# Most frequent car model\n",
    "print(f\"\\n9. Most frequent car model: {df['Car_Name'].mode()[0]}\")\n",
    "\n",
    "# .mode() gives most frequent value; [0] gets the top one.\n",
    "# df['Car_Name'].mode()[0]\n"
   ]
  },
  {
   "cell_type": "markdown",
   "id": "80cc30ff-8e09-4e43-8135-0b084f2d222b",
   "metadata": {},
   "source": [
    "# 10. What is the average Selling_Price for each car model?"
   ]
  },
  {
   "cell_type": "code",
   "execution_count": 291,
   "id": "0298c8ba-006b-4e7e-814b-01d15a8c63e3",
   "metadata": {},
   "outputs": [
    {
     "name": "stdout",
     "output_type": "stream",
     "text": [
      "\n",
      "10. Average Selling_Price for each car model:\n",
      "Car_Name\n",
      "land cruiser           35.000000\n",
      "fortuner               18.685455\n",
      "innova                 12.777778\n",
      "creta                  11.800000\n",
      "elantra                11.600000\n",
      "                         ...    \n",
      "Hero  CBZ Xtreme        0.200000\n",
      "Hero Hunk               0.200000\n",
      "Hero Super Splendor     0.200000\n",
      "Bajaj  ct 100           0.180000\n",
      "Bajaj Discover 125      0.175000\n",
      "Name: Selling_Price, Length: 98, dtype: float64\n"
     ]
    }
   ],
   "source": [
    "# Average Selling_Price by Car_Name\n",
    "print(\"\\n10. Average Selling_Price for each car model:\")\n",
    "print(df.groupby('Car_Name')['Selling_Price'].mean().sort_values(ascending=False))\n",
    "\n",
    "# Calculates average price for each car model using groupby.\n",
    "# df.groupby('Car_Name')['Selling_Price'].mean()\n"
   ]
  },
  {
   "cell_type": "markdown",
   "id": "1888c605-5e49-4bd6-a164-1562e67a19b9",
   "metadata": {},
   "source": [
    "# 11. What is the range of years in the dataset (min and max Year)?"
   ]
  },
  {
   "cell_type": "code",
   "execution_count": 294,
   "id": "8ae0f25d-1b44-48cb-bc53-95fbaaf281ac",
   "metadata": {},
   "outputs": [
    {
     "name": "stdout",
     "output_type": "stream",
     "text": [
      "\n",
      "11. Year range: min 2003, max 2018\n"
     ]
    }
   ],
   "source": [
    "# Year range\n",
    "print(f\"\\n11. Year range: min {df['Year'].min()}, max {df['Year'].max()}\")\n",
    "\n",
    "# Finds the earliest and latest years in the data.\n",
    "# df['Year'].min(), df['Year'].max()"
   ]
  },
  {
   "cell_type": "markdown",
   "id": "4061fde0-5f2c-497a-8029-36c1ebbc2e81",
   "metadata": {},
   "source": [
    "# 12. What is the average Selling_Price grouped by Year?"
   ]
  },
  {
   "cell_type": "code",
   "execution_count": 297,
   "id": "0b06e9df-171b-4fd1-af47-8f81db833508",
   "metadata": {},
   "outputs": [
    {
     "name": "stdout",
     "output_type": "stream",
     "text": [
      "\n",
      "12. Avg Selling_Price by Year:\n",
      "Year\n",
      "2003    1.300000\n",
      "2004    1.500000\n",
      "2005    2.487500\n",
      "2006    1.437500\n",
      "2007    0.160000\n",
      "2008    1.002857\n",
      "2009    2.816667\n",
      "2010    5.262667\n",
      "2011    2.375263\n",
      "2012    3.841304\n",
      "2013    3.540909\n",
      "2014    4.762105\n",
      "2015    5.927049\n",
      "2016    5.213200\n",
      "2017    6.209143\n",
      "2018    9.250000\n",
      "Name: Selling_Price, dtype: float64\n"
     ]
    }
   ],
   "source": [
    "# Average Selling_Price by Year\n",
    "print(\"\\n12. Avg Selling_Price by Year:\")\n",
    "print(df.groupby('Year')['Selling_Price'].mean())\n",
    "\n",
    "# Groups by year and calculates the mean selling price.\n",
    "# df.groupby('Year')['Selling_Price'].mean()"
   ]
  },
  {
   "cell_type": "markdown",
   "id": "42b9a38b-53c5-4304-a556-ae268d55d5c2",
   "metadata": {},
   "source": [
    "# 13. What is the most common number of owners (from the Owner column)?"
   ]
  },
  {
   "cell_type": "code",
   "execution_count": 300,
   "id": "acf9183e-2b3e-4bbd-86fb-e440ce84ebad",
   "metadata": {},
   "outputs": [
    {
     "name": "stdout",
     "output_type": "stream",
     "text": [
      "\n",
      "13. Most common number of owners: 0\n"
     ]
    }
   ],
   "source": [
    "# Most common owner number\n",
    "print(f\"\\n13. Most common number of owners: {df['Owner'].mode()[0]}\")\n",
    "\n",
    "# Finds the most common owner count.\n",
    "# df['Owner'].mode()[0]"
   ]
  },
  {
   "cell_type": "markdown",
   "id": "739b678f-508a-4cdd-b955-9680680d50d9",
   "metadata": {},
   "source": [
    "# 14. What is the average number of kilometers driven (Kms_Driven)?"
   ]
  },
  {
   "cell_type": "code",
   "execution_count": 303,
   "id": "34318e87-d51f-4828-bdbe-4b6df241ee3d",
   "metadata": {},
   "outputs": [
    {
     "name": "stdout",
     "output_type": "stream",
     "text": [
      "\n",
      "14. Average Kms_Driven: 36947.21\n"
     ]
    }
   ],
   "source": [
    "# Average Kms_Driven\n",
    "print(f\"\\n14. Average Kms_Driven: {df['Kms_Driven'].mean():.2f}\")\n",
    "\n",
    "# Gets the average of Kms_Driven column.\n",
    "# df['Kms_Driven'].mean()\n"
   ]
  },
  {
   "cell_type": "markdown",
   "id": "b80b7ae7-9a76-4e72-9290-081d86f13c7c",
   "metadata": {},
   "source": [
    "# 15. Which car has the highest Present_Price?"
   ]
  },
  {
   "cell_type": "code",
   "execution_count": 306,
   "id": "62de110f-de38-42bc-b2b7-6d141eeae576",
   "metadata": {},
   "outputs": [
    {
     "name": "stdout",
     "output_type": "stream",
     "text": [
      "\n",
      "15. Car with highest Present_Price:\n",
      "Car_Name         land cruiser\n",
      "Year                     2010\n",
      "Selling_Price            35.0\n",
      "Present_Price            92.6\n",
      "Kms_Driven              78000\n",
      "Fuel_Type              Diesel\n",
      "Seller_Type            Dealer\n",
      "Transmission           Manual\n",
      "Owner                       0\n",
      "Name: 86, dtype: object\n"
     ]
    }
   ],
   "source": [
    "# Car with highest Present_Price\n",
    "idx_max = df['Present_Price'].idxmax()\n",
    "print(\"\\n15. Car with highest Present_Price:\")\n",
    "print(df.loc[idx_max])  \n",
    "\n",
    "# .idxmax() gives index of max value; .loc[] fetches that row.\n",
    "# df.loc[df['Present_Price'].idxmax()]\n"
   ]
  },
  {
   "cell_type": "markdown",
   "id": "823b9eb1-831e-4ba6-8b02-6d82b871d77f",
   "metadata": {},
   "source": [
    "# 16. What is the correlation between Selling_Price, Present_Price, and Kms_Driven?"
   ]
  },
  {
   "cell_type": "code",
   "execution_count": 309,
   "id": "3b950d3e-f25c-47bd-b366-79f6468544ab",
   "metadata": {},
   "outputs": [
    {
     "name": "stdout",
     "output_type": "stream",
     "text": [
      "\n",
      "16. Correlation between Selling_Price, Present_Price, Kms_Driven:\n",
      "               Selling_Price  Present_Price  Kms_Driven\n",
      "Selling_Price       1.000000       0.878983    0.029187\n",
      "Present_Price       0.878983       1.000000    0.203647\n",
      "Kms_Driven          0.029187       0.203647    1.000000\n"
     ]
    }
   ],
   "source": [
    "# Correlation\n",
    "print(\"\\n16. Correlation between Selling_Price, Present_Price, Kms_Driven:\")\n",
    "print(df[['Selling_Price', 'Present_Price', 'Kms_Driven']].corr())\n",
    "\n",
    "# .corr() calculates Pearson correlation.\n",
    "# df[['Selling_Price', 'Present_Price', 'Kms_Driven']].corr()"
   ]
  },
  {
   "cell_type": "markdown",
   "id": "c5acf5a9-443f-4681-8ac1-52f2bb70f193",
   "metadata": {},
   "source": [
    "# 17. Which Seller_Type has the highest average Selling_Price?"
   ]
  },
  {
   "cell_type": "code",
   "execution_count": 312,
   "id": "00da3593-484c-476e-aa8c-89fd8c50e00f",
   "metadata": {},
   "outputs": [
    {
     "name": "stdout",
     "output_type": "stream",
     "text": [
      "\n",
      "17. Seller_Type with highest average Selling_Price:\n",
      "Dealer\n"
     ]
    }
   ],
   "source": [
    "# Seller_Type with highest average Selling_Price\n",
    "print(\"\\n17. Seller_Type with highest average Selling_Price:\")\n",
    "print(df.groupby('Seller_Type')['Selling_Price'].mean().idxmax())\n",
    "\n",
    "# Gets the group with the highest average selling price.\n",
    "# df.groupby('Seller_Type')['Selling_Price'].mean().idxmax()"
   ]
  },
  {
   "cell_type": "markdown",
   "id": "3003196e-6a63-450a-85be-5eb016f33cc7",
   "metadata": {},
   "source": [
    "# 18. How many cars are there of each Fuel_Type?"
   ]
  },
  {
   "cell_type": "code",
   "execution_count": 315,
   "id": "58c1cf6a-6185-40b4-85d2-d680f94eb75e",
   "metadata": {},
   "outputs": [
    {
     "name": "stdout",
     "output_type": "stream",
     "text": [
      "\n",
      "18. Number of cars by Fuel_Type:\n",
      "Fuel_Type\n",
      "Petrol    239\n",
      "Diesel     60\n",
      "CNG         2\n",
      "Name: count, dtype: int64\n"
     ]
    }
   ],
   "source": [
    "# Count by Fuel_Type\n",
    "print(\"\\n18. Number of cars by Fuel_Type:\")\n",
    "print(df['Fuel_Type'].value_counts())\n",
    "\n",
    "# Counts the number of entries for each fuel type.\n",
    "# df['Fuel_Type'].value_counts()\n"
   ]
  },
  {
   "cell_type": "markdown",
   "id": "6c91f70c-76c4-4f8a-9d96-089473f92c77",
   "metadata": {},
   "source": [
    "# 19. How many cars have more than one previous owner?"
   ]
  },
  {
   "cell_type": "code",
   "execution_count": 318,
   "id": "4827a44d-3851-4126-bdf3-1e4a73768ed6",
   "metadata": {},
   "outputs": [
    {
     "name": "stdout",
     "output_type": "stream",
     "text": [
      "\n",
      "19. Cars with more than one previous owner: 1\n"
     ]
    }
   ],
   "source": [
    "# Cars with >1 owner\n",
    "print(f\"\\n19. Cars with more than one previous owner: {(df['Owner']>1).sum()}\")\n",
    "\n",
    "# Filters where Owner > 1 and counts them.\n",
    "# (df['Owner'] > 1).sum()\n"
   ]
  },
  {
   "cell_type": "markdown",
   "id": "186c84f3-e778-4db2-99df-cec23a872415",
   "metadata": {},
   "source": [
    "# 20. What are the top 5 most expensive cars in the dataset?"
   ]
  },
  {
   "cell_type": "code",
   "execution_count": 321,
   "id": "bf41c3d9-fc78-4bb1-8c83-b5909b3002ad",
   "metadata": {},
   "outputs": [
    {
     "name": "stdout",
     "output_type": "stream",
     "text": [
      "\n",
      "20. Top 5 most expensive cars:\n",
      "        Car_Name  Selling_Price\n",
      "86  land cruiser           35.0\n",
      "64      fortuner           33.0\n",
      "63      fortuner           23.5\n",
      "51      fortuner           23.0\n",
      "82        innova           23.0\n"
     ]
    }
   ],
   "source": [
    "# Top 5 most expensive cars\n",
    "print(\"\\n20. Top 5 most expensive cars:\")\n",
    "print(df.nlargest(5, 'Selling_Price')[['Car_Name','Selling_Price']])\n",
    "\n",
    "# Gets top 5 rows with highest selling price.\n",
    "# df.nlargest(5, 'Selling_Price')[['Car_Name','Selling_Price']]\n"
   ]
  },
  {
   "cell_type": "markdown",
   "id": "2d614720-ce70-4453-b3a6-aaf9513b1d78",
   "metadata": {},
   "source": [
    "# 21. What is the average difference between Present_Price and Selling_Price? "
   ]
  },
  {
   "cell_type": "code",
   "execution_count": 324,
   "id": "2598be4a-e2e0-4d57-8848-c8ffc01211c0",
   "metadata": {},
   "outputs": [
    {
     "name": "stdout",
     "output_type": "stream",
     "text": [
      "\n",
      "21. Average difference between Present and Selling Price: 2.97\n"
     ]
    }
   ],
   "source": [
    "# Average difference Present_Price - Selling_Price\n",
    "diff = (df['Present_Price'] - df['Selling_Price']).mean()\n",
    "print(f\"\\n21. Average difference between Present and Selling Price: {diff:.2f}\")\n",
    "\n",
    "# Subtracts and finds mean difference.\n",
    "# (df['Present_Price'] - df['Selling_Price']).mean()\n"
   ]
  },
  {
   "cell_type": "markdown",
   "id": "385abba5-29ba-47c6-828c-9512bcf30666",
   "metadata": {},
   "source": [
    "# 22. How many cars are being sold by individual sellers vs dealers?"
   ]
  },
  {
   "cell_type": "code",
   "execution_count": 327,
   "id": "22b248c5-392d-4fe4-b34e-0715786a6a20",
   "metadata": {},
   "outputs": [
    {
     "name": "stdout",
     "output_type": "stream",
     "text": [
      "\n",
      "22. Count of cars by Seller_Type:\n",
      "Seller_Type\n",
      "Dealer        195\n",
      "Individual    106\n",
      "Name: count, dtype: int64\n"
     ]
    }
   ],
   "source": [
    "# Individual vs Dealer counts\n",
    "print(\"\\n22. Count of cars by Seller_Type:\")\n",
    "print(df['Seller_Type'].value_counts())\n",
    "\n",
    "# Counts records for each seller type.\n",
    "# df['Seller_Type'].value_counts()\n"
   ]
  },
  {
   "cell_type": "markdown",
   "id": "40856be2-2550-48e6-9153-49106add55eb",
   "metadata": {},
   "source": [
    "# 23. How many cars were manufactured before 2010?"
   ]
  },
  {
   "cell_type": "code",
   "execution_count": 330,
   "id": "0a220cdb-c501-4170-97f3-e369996e5e9f",
   "metadata": {},
   "outputs": [
    {
     "name": "stdout",
     "output_type": "stream",
     "text": [
      "\n",
      "23. Cars manufactured before 2010: 26\n"
     ]
    }
   ],
   "source": [
    "# Cars manufactured before 2010\n",
    "print(f\"\\n23. Cars manufactured before 2010: {(df['Year']<2010).sum()}\")\n",
    "\n",
    "# Filters years before 2010 and counts them.\n",
    "# (df['Year'] < 2010).sum()"
   ]
  },
  {
   "cell_type": "markdown",
   "id": "a301a897-7cad-418b-b414-e634a47fb780",
   "metadata": {},
   "source": [
    "# 24. Which year has the highest number of car listings?"
   ]
  },
  {
   "cell_type": "code",
   "execution_count": 333,
   "id": "88f39f2d-381f-453a-a698-76c57860e85b",
   "metadata": {},
   "outputs": [
    {
     "name": "stdout",
     "output_type": "stream",
     "text": [
      "\n",
      "24. Year with highest number of listings: 2015\n"
     ]
    }
   ],
   "source": [
    "# Year with most listings\n",
    "print(f\"\\n24. Year with highest number of listings: {df['Year'].value_counts().idxmax()}\")\n",
    "\n",
    "# Finds the year with the most entries.\n",
    "# df['Year'].value_counts().idxmax()"
   ]
  },
  {
   "cell_type": "markdown",
   "id": "a8984bb8-eb3a-4aeb-8cdb-5ee33ce73a9a",
   "metadata": {},
   "source": [
    "# 25. What percentage of cars are using diesel vs petrol vs CNG?"
   ]
  },
  {
   "cell_type": "code",
   "execution_count": 336,
   "id": "4f736191-9084-434b-8023-93dd48429017",
   "metadata": {},
   "outputs": [
    {
     "name": "stdout",
     "output_type": "stream",
     "text": [
      "\n",
      "25. Fuel type percentages:\n",
      "Fuel_Type\n",
      "Petrol    79.40\n",
      "Diesel    19.93\n",
      "CNG        0.66\n",
      "Name: proportion, dtype: float64\n"
     ]
    }
   ],
   "source": [
    "# Fuel type percentages\n",
    "print(\"\\n25. Fuel type percentages:\")\n",
    "print((df['Fuel_Type'].value_counts(normalize=True)*100).round(2))\n",
    "\n",
    "# normalize=True gives proportion, then multiply by 100.\n",
    "# df['Fuel_Type'].value_counts(normalize=True) * 100"
   ]
  },
  {
   "cell_type": "markdown",
   "id": "4d7bf256-ef10-48c1-8736-e39b3681ac4f",
   "metadata": {},
   "source": [
    "# 26. What is the highest and lowest Kms_Driven for each fuel type?"
   ]
  },
  {
   "cell_type": "code",
   "execution_count": 339,
   "id": "cf033052-ba41-4770-8ceb-e4d22f673443",
   "metadata": {},
   "outputs": [
    {
     "name": "stdout",
     "output_type": "stream",
     "text": [
      "\n",
      "26. Kms_Driven range by Fuel_Type:\n",
      "             min     max\n",
      "Fuel_Type               \n",
      "CNG        35500   49998\n",
      "Diesel      2071  197176\n",
      "Petrol       500  500000\n"
     ]
    }
   ],
   "source": [
    "# Kms_Driven min and max by fuel\n",
    "print(\"\\n26. Kms_Driven range by Fuel_Type:\")\n",
    "print(df.groupby('Fuel_Type')['Kms_Driven'].agg(['min','max']))\n",
    "\n",
    "# Aggregates min and max Kms_Driven per fuel type.\n",
    "# df.groupby('Fuel_Type')['Kms_Driven'].agg(['min','max'])"
   ]
  },
  {
   "cell_type": "markdown",
   "id": "13379cd6-94ea-4634-bae5-b7725da62ed1",
   "metadata": {},
   "source": [
    "# 27. How many cars were sold with exactly 0 previous owners?"
   ]
  },
  {
   "cell_type": "code",
   "execution_count": 342,
   "id": "19ebdbe3-1950-4a34-9e41-282bd2955bd7",
   "metadata": {},
   "outputs": [
    {
     "name": "stdout",
     "output_type": "stream",
     "text": [
      "\n",
      "27. Cars with exactly 0 previous owners: 290\n"
     ]
    }
   ],
   "source": [
    "# Cars with exactly 0 owners\n",
    "print(f\"\\n27. Cars with exactly 0 previous owners: {(df['Owner'] == 0).sum()}\")\n",
    "\n",
    "# Filters and counts where Owner == 0.\n",
    "# (df['Owner'] == 0).sum()"
   ]
  },
  {
   "cell_type": "markdown",
   "id": "0b947952-0fce-47bb-af9a-a0c7fe70bc5c",
   "metadata": {},
   "source": [
    "# 28. How many unique combinations of Fuel_Type, Seller_Type, and Transmission exist?"
   ]
  },
  {
   "cell_type": "code",
   "execution_count": 345,
   "id": "df3abe02-67ed-487b-9b6a-7c3e4c24499d",
   "metadata": {},
   "outputs": [
    {
     "name": "stdout",
     "output_type": "stream",
     "text": [
      "\n",
      "28. Unique combinations of Fuel_Type, Seller_Type, Transmission: 8\n"
     ]
    }
   ],
   "source": [
    "# Unique combinations of Fuel_Type, Seller_Type, Transmission\n",
    "print(f\"\\n28. Unique combinations of Fuel_Type, Seller_Type, Transmission: {df[['Fuel_Type','Seller_Type','Transmission']].drop_duplicates().shape[0]}\")\n",
    "\n",
    "# Drops duplicates and counts unique rows.\n",
    "# df[['Fuel_Type','Seller_Type','Transmission']].drop_duplicates().shape[0]"
   ]
  },
  {
   "cell_type": "markdown",
   "id": "852b2164-92b1-465d-9421-0b0be58e5b93",
   "metadata": {},
   "source": [
    "# 29. What is the average Selling_Price of cars that have more than 2 previous owners?"
   ]
  },
  {
   "cell_type": "code",
   "execution_count": 348,
   "id": "90f16070-b6ac-4c8e-a168-8706897c2fa3",
   "metadata": {},
   "outputs": [
    {
     "name": "stdout",
     "output_type": "stream",
     "text": [
      "\n",
      "29. Average Selling_Price owners > 2 : 2.50\n"
     ]
    }
   ],
   "source": [
    "# Average Selling_Price for cars with >2 owners\n",
    "print(f\"\\n29. Average Selling_Price owners > 2 : {df[df['Owner']>2]['Selling_Price'].mean():.2f}\")\n",
    "\n",
    "# Filters cars with Owner > 2 and computes average.\n",
    "# df[df['Owner'] > 2]['Selling_Price'].mean()"
   ]
  },
  {
   "cell_type": "markdown",
   "id": "b4c85a1c-2160-4e25-b21c-9363f58123f9",
   "metadata": {},
   "source": [
    "# 30. Are there any cars where Selling_Price is greater than Present_Price?"
   ]
  },
  {
   "cell_type": "code",
   "execution_count": 351,
   "id": "c31c7857-6c80-41c0-86f2-0a267f03d737",
   "metadata": {},
   "outputs": [
    {
     "name": "stdout",
     "output_type": "stream",
     "text": [
      "\n",
      "30. Cars where Selling_Price > Present_Price: 0\n"
     ]
    }
   ],
   "source": [
    "# Cars where Selling_Price > Present_Price\n",
    "print(f\"\\n30. Cars where Selling_Price > Present_Price: {(df['Selling_Price']>df['Present_Price']).sum()}\")\n",
    "\n",
    "# Checks and counts where selling price exceeds present price.\n",
    "# (df['Selling_Price'] > df['Present_Price']).sum()"
   ]
  },
  {
   "cell_type": "code",
   "execution_count": null,
   "id": "a556962f-0215-40f0-98b2-d163301774a0",
   "metadata": {},
   "outputs": [],
   "source": []
  }
 ],
 "metadata": {
  "kernelspec": {
   "display_name": "Python [conda env:base] *",
   "language": "python",
   "name": "conda-base-py"
  },
  "language_info": {
   "codemirror_mode": {
    "name": "ipython",
    "version": 3
   },
   "file_extension": ".py",
   "mimetype": "text/x-python",
   "name": "python",
   "nbconvert_exporter": "python",
   "pygments_lexer": "ipython3",
   "version": "3.12.7"
  }
 },
 "nbformat": 4,
 "nbformat_minor": 5
}
